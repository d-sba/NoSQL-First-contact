{
 "cells": [
  {
   "cell_type": "code",
   "execution_count": null,
   "id": "9f5e6517",
   "metadata": {},
   "outputs": [
    {
     "name": "stdout",
     "output_type": "stream",
     "text": [
      "['admin', 'config', 'ejercicios', 'local', 'test']\n"
     ]
    }
   ],
   "source": [
    "from pymongo import MongoClient\n",
    "\n",
    "# ----------------------\n",
    "client = MongoClient(\"mongodb://localhost:27017\")\n",
    "\n",
    "# ----------------------\n",
    "print(client.list_database_names())\n"
   ]
  },
  {
   "cell_type": "code",
   "execution_count": 3,
   "id": "2d1ae944",
   "metadata": {},
   "outputs": [],
   "source": [
    "db = client.ejercicios\n",
    "movies_collection = db.MOVIES\n"
   ]
  },
  {
   "cell_type": "markdown",
   "id": "cdc7edc6",
   "metadata": {},
   "source": [
    "## 0. ESTUDIO Y LIMPIEZA TABLA\n"
   ]
  },
  {
   "cell_type": "markdown",
   "id": "62b07484",
   "metadata": {},
   "source": [
    "### 0.1. Tipos de las columnas"
   ]
  },
  {
   "cell_type": "code",
   "execution_count": 4,
   "id": "5ee66d39",
   "metadata": {},
   "outputs": [
    {
     "data": {
      "text/plain": [
       "_id                           object\n",
       "plot                          object\n",
       "genres                        object\n",
       "runtime                      float64\n",
       "cast                          object\n",
       "num_mflix_comments           float64\n",
       "title                         object\n",
       "fullplot                      object\n",
       "countries                     object\n",
       "released              datetime64[ns]\n",
       "directors                     object\n",
       "rated                         object\n",
       "awards                        object\n",
       "lastupdated                   object\n",
       "year                          object\n",
       "imdb                          object\n",
       "type                          object\n",
       "tomatoes                      object\n",
       "poster                        object\n",
       "languages                     object\n",
       "writers                       object\n",
       "metacritic                   float64\n",
       "dtype: object"
      ]
     },
     "execution_count": 4,
     "metadata": {},
     "output_type": "execute_result"
    }
   ],
   "source": [
    "import pandas as pd\n",
    "\n",
    "df=pd.DataFrame(list(movies_collection.find()))\n",
    "df.dtypes"
   ]
  },
  {
   "cell_type": "markdown",
   "id": "cc3b5ab0",
   "metadata": {},
   "source": [
    "### 0.2. Eliminación de columnas\n"
   ]
  },
  {
   "cell_type": "code",
   "execution_count": 5,
   "id": "47d32d69",
   "metadata": {},
   "outputs": [
    {
     "data": {
      "text/plain": [
       "UpdateResult({'n': 23539, 'nModified': 23539, 'ok': 1.0, 'updatedExisting': True}, acknowledged=True)"
      ]
     },
     "execution_count": 5,
     "metadata": {},
     "output_type": "execute_result"
    }
   ],
   "source": [
    "movies_collection.update_many(\n",
    "  {},  #no ponemos condición, queremos actualizar todos               \n",
    "  { \"$unset\": { \"fullplot\": \"\" , \"lastupdated\": \"\" , \"poster\": \"\", \"tomatoes\": \"\", \"writers\": \"\", \"metacritic\": \"\", \"num_mfilx_comments\": \"\"} } \n",
    ")"
   ]
  },
  {
   "cell_type": "code",
   "execution_count": 6,
   "id": "a5f8c07a",
   "metadata": {},
   "outputs": [
    {
     "data": {
      "text/plain": [
       "Index(['_id', 'plot', 'genres', 'runtime', 'cast', 'num_mflix_comments',\n",
       "       'title', 'countries', 'released', 'directors', 'rated', 'awards',\n",
       "       'year', 'imdb', 'type', 'languages'],\n",
       "      dtype='object')"
      ]
     },
     "execution_count": 6,
     "metadata": {},
     "output_type": "execute_result"
    }
   ],
   "source": [
    "df=pd.DataFrame(list(movies_collection.find()))\n",
    "df.columns"
   ]
  },
  {
   "cell_type": "markdown",
   "id": "7e971aef",
   "metadata": {},
   "source": [
    "## 1. FILTRADO DE LA TABLA\n",
    "\n",
    "Debido a la gran cantidad de datos, vamos a filtrar nuestro db"
   ]
  },
  {
   "cell_type": "markdown",
   "id": "e8ac4598",
   "metadata": {},
   "source": [
    "### 1.1. Pelis recientes\n",
    "\n",
    "Veamos primero el rango de años que tenemos"
   ]
  },
  {
   "cell_type": "code",
   "execution_count": 15,
   "id": "0608687a",
   "metadata": {},
   "outputs": [
    {
     "name": "stdout",
     "output_type": "stream",
     "text": [
      "Rango: (1891, 2015è)\n"
     ]
    }
   ],
   "source": [
    "max_doc = movies_collection.find({}, {\"_id\": 0, \"year\": 1}).sort(\"year\", -1).limit(1)\n",
    "max_year = list(max_doc)[0][\"year\"]\n",
    "\n",
    "min_doc = movies_collection.find({}, {\"_id\": 0, \"year\": 1}).sort(\"year\", 1).limit(1)\n",
    "min_year = list(min_doc)[0][\"year\"]\n",
    "\n",
    "print(f'Rango: ({min_year}, {max_year})')\n"
   ]
  },
  {
   "cell_type": "markdown",
   "id": "73e6eb8e",
   "metadata": {},
   "source": [
    "Vemos que hay algún tipo de error, por lo que vamos a limpiar los docs que no tengan year como un int"
   ]
  },
  {
   "cell_type": "code",
   "execution_count": 21,
   "id": "fe2cb288",
   "metadata": {},
   "outputs": [
    {
     "name": "stdout",
     "output_type": "stream",
     "text": [
      "Documentos con year como string: 37\n"
     ]
    },
    {
     "data": {
      "text/plain": [
       "DeleteResult({'n': 37, 'ok': 1.0}, acknowledged=True)"
      ]
     },
     "execution_count": 21,
     "metadata": {},
     "output_type": "execute_result"
    }
   ],
   "source": [
    "count_strings = movies_collection.count_documents({\"year\": {\"$type\": \"string\"}})\n",
    "print(f\"Documentos con year como string: {count_strings}\")\n",
    "\n",
    "movies_collection.delete_many({\"year\":{\"$type\":\"string\"}})"
   ]
  },
  {
   "cell_type": "markdown",
   "id": "12915827",
   "metadata": {},
   "source": [
    "Ahora sí, vemos el rango"
   ]
  },
  {
   "cell_type": "code",
   "execution_count": 22,
   "id": "736f34c3",
   "metadata": {},
   "outputs": [
    {
     "name": "stdout",
     "output_type": "stream",
     "text": [
      "Rango: (1891, 2016)\n"
     ]
    }
   ],
   "source": [
    "max_doc = movies_collection.find({}, {\"_id\": 0, \"year\": 1}).sort(\"year\", -1).limit(1)\n",
    "max_year = list(max_doc)[0][\"year\"]\n",
    "\n",
    "min_doc = movies_collection.find({}, {\"_id\": 0, \"year\": 1}).sort(\"year\", 1).limit(1)\n",
    "min_year = list(min_doc)[0][\"year\"]\n",
    "\n",
    "print(f'Rango: ({min_year}, {max_year})')\n"
   ]
  },
  {
   "cell_type": "markdown",
   "id": "2d12163e",
   "metadata": {},
   "source": [
    "Nos quedaremos entonces sólo con las pelis posteriores a 1970"
   ]
  },
  {
   "cell_type": "code",
   "execution_count": 23,
   "id": "a70a3ece",
   "metadata": {},
   "outputs": [
    {
     "data": {
      "text/plain": [
       "DeleteResult({'n': 2674, 'ok': 1.0}, acknowledged=True)"
      ]
     },
     "execution_count": 23,
     "metadata": {},
     "output_type": "execute_result"
    }
   ],
   "source": [
    "movies_collection.delete_many({\"year\":{\"$lt\":1970}})"
   ]
  },
  {
   "cell_type": "markdown",
   "id": "37a54e9d",
   "metadata": {},
   "source": [
    "### 1.2. Pelis por paises\n",
    "\n",
    "Además, estudiaremos solo películas de los cinco países con más películas. Ahora bien, como countries es un array, tendremos que hacer un unwind de este campo"
   ]
  },
  {
   "cell_type": "code",
   "execution_count": null,
   "id": "a110fdb6",
   "metadata": {},
   "outputs": [
    {
     "data": {
      "text/html": [
       "<div>\n",
       "<style scoped>\n",
       "    .dataframe tbody tr th:only-of-type {\n",
       "        vertical-align: middle;\n",
       "    }\n",
       "\n",
       "    .dataframe tbody tr th {\n",
       "        vertical-align: top;\n",
       "    }\n",
       "\n",
       "    .dataframe thead th {\n",
       "        text-align: right;\n",
       "    }\n",
       "</style>\n",
       "<table border=\"1\" class=\"dataframe\">\n",
       "  <thead>\n",
       "    <tr style=\"text-align: right;\">\n",
       "      <th></th>\n",
       "      <th>_id</th>\n",
       "      <th>total</th>\n",
       "    </tr>\n",
       "  </thead>\n",
       "  <tbody>\n",
       "    <tr>\n",
       "      <th>0</th>\n",
       "      <td>USA</td>\n",
       "      <td>10310</td>\n",
       "    </tr>\n",
       "    <tr>\n",
       "      <th>1</th>\n",
       "      <td>France</td>\n",
       "      <td>2778</td>\n",
       "    </tr>\n",
       "    <tr>\n",
       "      <th>2</th>\n",
       "      <td>UK</td>\n",
       "      <td>2592</td>\n",
       "    </tr>\n",
       "    <tr>\n",
       "      <th>3</th>\n",
       "      <td>Germany</td>\n",
       "      <td>1632</td>\n",
       "    </tr>\n",
       "    <tr>\n",
       "      <th>4</th>\n",
       "      <td>Canada</td>\n",
       "      <td>1333</td>\n",
       "    </tr>\n",
       "  </tbody>\n",
       "</table>\n",
       "</div>"
      ],
      "text/plain": [
       "       _id  total\n",
       "0      USA  10310\n",
       "1   France   2778\n",
       "2       UK   2592\n",
       "3  Germany   1632\n",
       "4   Canada   1333"
      ]
     },
     "execution_count": 24,
     "metadata": {},
     "output_type": "execute_result"
    }
   ],
   "source": [
    "query=[\n",
    "  { \"$unwind\": \"$countries\" },       \n",
    "  { \"$group\": { \n",
    "      \"_id\": \"$countries\", \n",
    "      \"total\": { \"$sum\": 1 } \n",
    "  } },  \n",
    "  { \"$sort\": { \"total\": -1 } },\n",
    "  { \"$limit\":5}\n",
    "]\n",
    "\n",
    "result = list(movies_collection.aggregate(query))\n",
    "df_pelis_ppais=pd.DataFrame(result)\n",
    "df_pelis_ppais"
   ]
  },
  {
   "cell_type": "markdown",
   "id": "93283a3c",
   "metadata": {},
   "source": [
    "Ahora sí, procedemos a eliminar aquellas que no tengan **ninguno** de los anteriores países dentro de su vector *countries*"
   ]
  },
  {
   "cell_type": "code",
   "execution_count": 25,
   "id": "5ba603d9",
   "metadata": {},
   "outputs": [
    {
     "name": "stdout",
     "output_type": "stream",
     "text": [
      "Documentos antes: 20828->Documentos despues: 11915\n"
     ]
    }
   ],
   "source": [
    "entries_antes=movies_collection.count_documents({})\n",
    "\n",
    "paises_permitidos= ['USA', 'France', 'UK', 'Germany', 'Canada']\n",
    "eliminacion_paises={'countries': { \"$elemMatch\": { \"$nin\": paises_permitidos }}}\n",
    "movies_collection.delete_many(eliminacion_paises)\n",
    "\n",
    "entries_despues=movies_collection.count_documents({})\n",
    "\n",
    "print(f'Documentos antes: {entries_antes}->Documentos despues: {entries_despues}')\n"
   ]
  },
  {
   "cell_type": "markdown",
   "id": "4175eb6e",
   "metadata": {},
   "source": [
    "## 2. ESTUDIO DE LOS DATOS"
   ]
  },
  {
   "cell_type": "markdown",
   "id": "2025f781",
   "metadata": {},
   "source": [
    "### 2.1. Cuál es la media de valoración de las pelis por país? Y la media de nominaciones a premios?"
   ]
  },
  {
   "cell_type": "code",
   "execution_count": null,
   "id": "61811e41",
   "metadata": {},
   "outputs": [
    {
     "data": {
      "text/html": [
       "<div>\n",
       "<style scoped>\n",
       "    .dataframe tbody tr th:only-of-type {\n",
       "        vertical-align: middle;\n",
       "    }\n",
       "\n",
       "    .dataframe tbody tr th {\n",
       "        vertical-align: top;\n",
       "    }\n",
       "\n",
       "    .dataframe thead th {\n",
       "        text-align: right;\n",
       "    }\n",
       "</style>\n",
       "<table border=\"1\" class=\"dataframe\">\n",
       "  <thead>\n",
       "    <tr style=\"text-align: right;\">\n",
       "      <th></th>\n",
       "      <th>_id</th>\n",
       "      <th>media_nominaciones</th>\n",
       "      <th>media_puntuacion</th>\n",
       "    </tr>\n",
       "  </thead>\n",
       "  <tbody>\n",
       "    <tr>\n",
       "      <th>0</th>\n",
       "      <td>UK</td>\n",
       "      <td>7.409972</td>\n",
       "      <td>6.820944</td>\n",
       "    </tr>\n",
       "    <tr>\n",
       "      <th>1</th>\n",
       "      <td>Germany</td>\n",
       "      <td>5.792654</td>\n",
       "      <td>6.500474</td>\n",
       "    </tr>\n",
       "    <tr>\n",
       "      <th>2</th>\n",
       "      <td>USA</td>\n",
       "      <td>5.758137</td>\n",
       "      <td>6.439974</td>\n",
       "    </tr>\n",
       "    <tr>\n",
       "      <th>3</th>\n",
       "      <td>France</td>\n",
       "      <td>5.194093</td>\n",
       "      <td>6.700676</td>\n",
       "    </tr>\n",
       "    <tr>\n",
       "      <th>4</th>\n",
       "      <td>Canada</td>\n",
       "      <td>4.670175</td>\n",
       "      <td>6.320088</td>\n",
       "    </tr>\n",
       "  </tbody>\n",
       "</table>\n",
       "</div>"
      ],
      "text/plain": [
       "       _id  media_nominaciones  media_puntuacion\n",
       "0       UK            7.409972          6.820944\n",
       "1  Germany            5.792654          6.500474\n",
       "2      USA            5.758137          6.439974\n",
       "3   France            5.194093          6.700676\n",
       "4   Canada            4.670175          6.320088"
      ]
     },
     "execution_count": 26,
     "metadata": {},
     "output_type": "execute_result"
    }
   ],
   "source": [
    "query_pais=[\n",
    "  { \"$unwind\": \"$countries\" },\n",
    "  { \"$match\": {} },       \n",
    "  { \"$group\": { \n",
    "      \"_id\": \"$countries\", \n",
    "      \"media_nominaciones\": { \"$avg\": \"$awards.nominations\"} , \n",
    "      \"media_puntuacion\":{\"$avg\": \"$imdb.rating\"} \n",
    "      } \n",
    "  },  \n",
    "  { \"$sort\": { \"media_nominaciones\": -1 }}\n",
    "]\n",
    "\n",
    "results=list(movies_collection.aggregate(query_pais))\n",
    "df_resultados_pais=pd.DataFrame(results)\n",
    "df_resultados_pais"
   ]
  },
  {
   "cell_type": "markdown",
   "id": "09dddaef",
   "metadata": {},
   "source": [
    "Por tanto, vemos que en ambos casos las pelis de UK son las que mas gustan tanto a nivel crítica cómo a nivel de público, por lo que produciremos nuestra peli allí"
   ]
  },
  {
   "cell_type": "markdown",
   "id": "ba0719ba",
   "metadata": {},
   "source": [
    "### 2.2. De qué género debería ser nuestra peli?"
   ]
  },
  {
   "cell_type": "markdown",
   "id": "ff8a7d79",
   "metadata": {},
   "source": [
    "Para ello, vamos a mirar cuántas pelis de cada género hay en UK y su media de puntuación"
   ]
  },
  {
   "cell_type": "code",
   "execution_count": 40,
   "id": "aa2e3fad",
   "metadata": {},
   "outputs": [
    {
     "data": {
      "text/html": [
       "<div>\n",
       "<style scoped>\n",
       "    .dataframe tbody tr th:only-of-type {\n",
       "        vertical-align: middle;\n",
       "    }\n",
       "\n",
       "    .dataframe tbody tr th {\n",
       "        vertical-align: top;\n",
       "    }\n",
       "\n",
       "    .dataframe thead th {\n",
       "        text-align: right;\n",
       "    }\n",
       "</style>\n",
       "<table border=\"1\" class=\"dataframe\">\n",
       "  <thead>\n",
       "    <tr style=\"text-align: right;\">\n",
       "      <th></th>\n",
       "      <th>_id</th>\n",
       "      <th>total</th>\n",
       "      <th>media_puntuacion</th>\n",
       "    </tr>\n",
       "  </thead>\n",
       "  <tbody>\n",
       "    <tr>\n",
       "      <th>0</th>\n",
       "      <td>Documentary</td>\n",
       "      <td>231</td>\n",
       "      <td>7.584848</td>\n",
       "    </tr>\n",
       "    <tr>\n",
       "      <th>1</th>\n",
       "      <td>News</td>\n",
       "      <td>2</td>\n",
       "      <td>7.550000</td>\n",
       "    </tr>\n",
       "    <tr>\n",
       "      <th>2</th>\n",
       "      <td>History</td>\n",
       "      <td>116</td>\n",
       "      <td>7.390517</td>\n",
       "    </tr>\n",
       "    <tr>\n",
       "      <th>3</th>\n",
       "      <td>Short</td>\n",
       "      <td>39</td>\n",
       "      <td>7.364872</td>\n",
       "    </tr>\n",
       "    <tr>\n",
       "      <th>4</th>\n",
       "      <td>War</td>\n",
       "      <td>65</td>\n",
       "      <td>7.223077</td>\n",
       "    </tr>\n",
       "  </tbody>\n",
       "</table>\n",
       "</div>"
      ],
      "text/plain": [
       "           _id  total  media_puntuacion\n",
       "0  Documentary    231          7.584848\n",
       "1         News      2          7.550000\n",
       "2      History    116          7.390517\n",
       "3        Short     39          7.364872\n",
       "4          War     65          7.223077"
      ]
     },
     "execution_count": 40,
     "metadata": {},
     "output_type": "execute_result"
    }
   ],
   "source": [
    "query_generosUK=[\n",
    "    {\"$unwind\": \"$genres\"}, \n",
    "    {\"$match\": {\"countries\" : 'UK'}},\n",
    "    {\"$group\" : {\"_id\": \"$genres\", \"total\": {\"$sum\":1}, \"media_puntuacion\": {\"$avg\": \"$imdb.rating\"}}},\n",
    "    {\"$sort\": {\"media_puntuacion\":-1}},\n",
    "    {\"$limit\":5}\n",
    "]\n",
    "\n",
    "lista_docs=list(movies_collection.aggregate(query_generosUK))\n",
    "df_generos=pd.DataFrame(lista_docs)\n",
    "df_generos"
   ]
  },
  {
   "cell_type": "markdown",
   "id": "ea22e5c5",
   "metadata": {},
   "source": [
    "Ahora bien, este dato no sería del todo fiable, ya que si una película tiene una puntuación de 10 pero sólo ha sido valorada por una persona, este no es un dato representativo. Así, añadiremos un nuevo campo a imdb, el score, calculado como: \n",
    "$$\n",
    "\\text{Score} = \\frac{v}{v + m} \\cdot R + \\frac{m}{v + m} \\cdot C\n",
    "$$\n",
    "\n",
    "donde:\n",
    "\n",
    "- \\( R \\) = puntuación media de la película  \n",
    "- \\( v \\) = número de votos de la película  \n",
    "- \\( m \\) = número mínimo de votos requeridos  \n",
    "- \\( C \\) = media de todas las puntuaciones\n",
    "\n",
    "Calculemos entonces m como el numero medio de votos de las pelis de UK y C la media de todas las puntuaciones\n"
   ]
  },
  {
   "cell_type": "code",
   "execution_count": 28,
   "id": "bd910838",
   "metadata": {},
   "outputs": [
    {
     "data": {
      "text/html": [
       "<div>\n",
       "<style scoped>\n",
       "    .dataframe tbody tr th:only-of-type {\n",
       "        vertical-align: middle;\n",
       "    }\n",
       "\n",
       "    .dataframe tbody tr th {\n",
       "        vertical-align: top;\n",
       "    }\n",
       "\n",
       "    .dataframe thead th {\n",
       "        text-align: right;\n",
       "    }\n",
       "</style>\n",
       "<table border=\"1\" class=\"dataframe\">\n",
       "  <thead>\n",
       "    <tr style=\"text-align: right;\">\n",
       "      <th></th>\n",
       "      <th>_id</th>\n",
       "      <th>media_votos</th>\n",
       "      <th>media_puntuaciones</th>\n",
       "    </tr>\n",
       "  </thead>\n",
       "  <tbody>\n",
       "    <tr>\n",
       "      <th>0</th>\n",
       "      <td>UK</td>\n",
       "      <td>35025.013333</td>\n",
       "      <td>6.820944</td>\n",
       "    </tr>\n",
       "  </tbody>\n",
       "</table>\n",
       "</div>"
      ],
      "text/plain": [
       "  _id   media_votos  media_puntuaciones\n",
       "0  UK  35025.013333            6.820944"
      ]
     },
     "execution_count": 28,
     "metadata": {},
     "output_type": "execute_result"
    }
   ],
   "source": [
    "query_datos_imdb_UK=[\n",
    "    {\"$match\": {\"countries\" : 'UK'}},\n",
    "    {\"$group\" : {\"_id\": \"UK\", \"media_votos\": {\"$avg\": \"$imdb.votes\"},  \"media_puntuaciones\": {\"$avg\": \"$imdb.rating\"}}}\n",
    "]\n",
    "\n",
    "lista_datos_imdb_UK=list(movies_collection.aggregate(query_datos_imdb_UK))\n",
    "df_datos_imdb_UK=pd.DataFrame(lista_datos_imdb_UK)\n",
    "df_datos_imdb_UK"
   ]
  },
  {
   "cell_type": "markdown",
   "id": "b31bc4bb",
   "metadata": {},
   "source": [
    "Ahora si, añadamos el key:value del score al objeto imdb y volvamos a hcer la consulta sobre promedio de score por géneros"
   ]
  },
  {
   "cell_type": "code",
   "execution_count": 29,
   "id": "9a23fed7",
   "metadata": {},
   "outputs": [],
   "source": [
    "m=34845\n",
    "C=6.83"
   ]
  },
  {
   "cell_type": "markdown",
   "id": "1e1f0aad",
   "metadata": {},
   "source": [
    "Convertimos en primer lugar los ratings y los votos a formato numero, rellenando los faltantes o los que nos den error con las medias"
   ]
  },
  {
   "cell_type": "code",
   "execution_count": 30,
   "id": "22f21b90",
   "metadata": {},
   "outputs": [
    {
     "data": {
      "text/plain": [
       "UpdateResult({'n': 1805, 'nModified': 184, 'ok': 1.0, 'updatedExisting': True}, acknowledged=True)"
      ]
     },
     "execution_count": 30,
     "metadata": {},
     "output_type": "execute_result"
    }
   ],
   "source": [
    "movies_collection.update_many(\n",
    "    {\"countries\": \"UK\"},\n",
    "    [\n",
    "        {\n",
    "            \"$set\": {\n",
    "                \"imdb.votes\": {\n",
    "                    \"$convert\": {\n",
    "                        \"input\": \"$imdb.votes\",\n",
    "                        \"to\": \"int\",\n",
    "                        \"onError\": m,\n",
    "                        \"onNull\": m\n",
    "                    }\n",
    "                },\n",
    "                \"imdb.rating\": {\n",
    "                    \"$convert\": {\n",
    "                        \"input\": \"$imdb.rating\",\n",
    "                        \"to\": \"double\",\n",
    "                        \"onError\": C,\n",
    "                        \"onNull\": C\n",
    "                    }\n",
    "                }\n",
    "            }\n",
    "        }\n",
    "    ]\n",
    ")\n"
   ]
  },
  {
   "cell_type": "markdown",
   "id": "2dbc848e",
   "metadata": {},
   "source": [
    "Ahora sí, añadimos el campo score"
   ]
  },
  {
   "cell_type": "code",
   "execution_count": null,
   "id": "e320103c",
   "metadata": {},
   "outputs": [
    {
     "data": {
      "text/plain": [
       "UpdateResult({'n': 1805, 'nModified': 1805, 'ok': 1.0, 'updatedExisting': True}, acknowledged=True)"
      ]
     },
     "execution_count": 31,
     "metadata": {},
     "output_type": "execute_result"
    }
   ],
   "source": [
    "movies_collection.update_many(\n",
    "    {\"countries\": \"UK\"},\n",
    "    [{\"$set\": {\"imdb.score\": {\n",
    "                    \"$add\": [\n",
    "                        {\n",
    "                            \"$multiply\": [\n",
    "                                {\n",
    "                                    \"$divide\": [\n",
    "                                        \"$imdb.votes\",\n",
    "                                        {\"$add\": [\"$imdb.votes\", m]}\n",
    "                                    ]\n",
    "                                },\n",
    "                                \"$imdb.rating\"\n",
    "                            ]\n",
    "                        },\n",
    "                        {\n",
    "                            \"$multiply\": [\n",
    "                                {\n",
    "                                    \"$divide\": [\n",
    "                                        m,\n",
    "                                        {\"$add\": [\"$imdb.votes\", m]}\n",
    "                                    ]\n",
    "                                },\n",
    "                                C\n",
    "                            ]\n",
    "                        }\n",
    "                    ]\n",
    "                }\n",
    "            }\n",
    "        }\n",
    "    ]\n",
    ")"
   ]
  },
  {
   "cell_type": "markdown",
   "id": "f540d9b5",
   "metadata": {},
   "source": [
    "Ahora sí, calculamos el **score** en lugar del rating por géneros para UK"
   ]
  },
  {
   "cell_type": "code",
   "execution_count": 32,
   "id": "3f463010",
   "metadata": {},
   "outputs": [
    {
     "data": {
      "text/html": [
       "<div>\n",
       "<style scoped>\n",
       "    .dataframe tbody tr th:only-of-type {\n",
       "        vertical-align: middle;\n",
       "    }\n",
       "\n",
       "    .dataframe tbody tr th {\n",
       "        vertical-align: top;\n",
       "    }\n",
       "\n",
       "    .dataframe thead th {\n",
       "        text-align: right;\n",
       "    }\n",
       "</style>\n",
       "<table border=\"1\" class=\"dataframe\">\n",
       "  <thead>\n",
       "    <tr style=\"text-align: right;\">\n",
       "      <th></th>\n",
       "      <th>_id</th>\n",
       "      <th>media_puntuacion</th>\n",
       "    </tr>\n",
       "  </thead>\n",
       "  <tbody>\n",
       "    <tr>\n",
       "      <th>0</th>\n",
       "      <td>War</td>\n",
       "      <td>6.947473</td>\n",
       "    </tr>\n",
       "    <tr>\n",
       "      <th>1</th>\n",
       "      <td>History</td>\n",
       "      <td>6.941729</td>\n",
       "    </tr>\n",
       "    <tr>\n",
       "      <th>2</th>\n",
       "      <td>Sci-Fi</td>\n",
       "      <td>6.934417</td>\n",
       "    </tr>\n",
       "    <tr>\n",
       "      <th>3</th>\n",
       "      <td>Musical</td>\n",
       "      <td>6.921435</td>\n",
       "    </tr>\n",
       "    <tr>\n",
       "      <th>4</th>\n",
       "      <td>Biography</td>\n",
       "      <td>6.919719</td>\n",
       "    </tr>\n",
       "  </tbody>\n",
       "</table>\n",
       "</div>"
      ],
      "text/plain": [
       "         _id  media_puntuacion\n",
       "0        War          6.947473\n",
       "1    History          6.941729\n",
       "2     Sci-Fi          6.934417\n",
       "3    Musical          6.921435\n",
       "4  Biography          6.919719"
      ]
     },
     "execution_count": 32,
     "metadata": {},
     "output_type": "execute_result"
    }
   ],
   "source": [
    "query_generosUK=[\n",
    "    {\"$unwind\": \"$genres\"}, \n",
    "    {\"$match\" : {\"countries\" : 'UK'}},\n",
    "    {\"$group\" : {\"_id\": \"$genres\", \"media_puntuacion\": {\"$avg\": \"$imdb.score\"}}},\n",
    "    {\"$sort\" : {\"media_puntuacion\":-1}},\n",
    "    {\"$limit\" : 5}\n",
    "]\n",
    "\n",
    "lista_docs=list(movies_collection.aggregate(query_generosUK))\n",
    "df_generos=pd.DataFrame(lista_docs)\n",
    "df_generos"
   ]
  },
  {
   "cell_type": "markdown",
   "id": "918375b7",
   "metadata": {},
   "source": [
    "Por lo tanto, concluimos que nuestra peli será de temática bélica e histórica. Veamos cuántas pelis cumplen con estos requisitos"
   ]
  },
  {
   "cell_type": "markdown",
   "id": "22cf10ee",
   "metadata": {},
   "source": [
    "### 2.3. Qué actores tendría que tener nuestra película?"
   ]
  },
  {
   "cell_type": "markdown",
   "id": "acc45fc0",
   "metadata": {},
   "source": [
    "Por ultimo, y para contentar ahora al equipo artístico (ya que la decisición del género de la película ha estado basada en los votos de IMDB), eligiremos a los actores de películas de War e History que hayan tenido mayor exitos en los premios"
   ]
  },
  {
   "cell_type": "code",
   "execution_count": 43,
   "id": "2cd6f3aa",
   "metadata": {},
   "outputs": [
    {
     "data": {
      "text/html": [
       "<div>\n",
       "<style scoped>\n",
       "    .dataframe tbody tr th:only-of-type {\n",
       "        vertical-align: middle;\n",
       "    }\n",
       "\n",
       "    .dataframe tbody tr th {\n",
       "        vertical-align: top;\n",
       "    }\n",
       "\n",
       "    .dataframe thead th {\n",
       "        text-align: right;\n",
       "    }\n",
       "</style>\n",
       "<table border=\"1\" class=\"dataframe\">\n",
       "  <thead>\n",
       "    <tr style=\"text-align: right;\">\n",
       "      <th></th>\n",
       "      <th>_id</th>\n",
       "      <th>media_nominations</th>\n",
       "      <th>media_wins</th>\n",
       "    </tr>\n",
       "  </thead>\n",
       "  <tbody>\n",
       "    <tr>\n",
       "      <th>0</th>\n",
       "      <td>Bryan Batt</td>\n",
       "      <td>256.0</td>\n",
       "      <td>267.0</td>\n",
       "    </tr>\n",
       "    <tr>\n",
       "      <th>1</th>\n",
       "      <td>Dwight Henry</td>\n",
       "      <td>256.0</td>\n",
       "      <td>267.0</td>\n",
       "    </tr>\n",
       "    <tr>\n",
       "      <th>2</th>\n",
       "      <td>Dickie Gravois</td>\n",
       "      <td>256.0</td>\n",
       "      <td>267.0</td>\n",
       "    </tr>\n",
       "    <tr>\n",
       "      <th>3</th>\n",
       "      <td>Chiwetel Ejiofor</td>\n",
       "      <td>133.5</td>\n",
       "      <td>133.5</td>\n",
       "    </tr>\n",
       "    <tr>\n",
       "      <th>4</th>\n",
       "      <td>Kristin Scott Thomas</td>\n",
       "      <td>53.0</td>\n",
       "      <td>68.0</td>\n",
       "    </tr>\n",
       "    <tr>\n",
       "      <th>...</th>\n",
       "      <td>...</td>\n",
       "      <td>...</td>\n",
       "      <td>...</td>\n",
       "    </tr>\n",
       "    <tr>\n",
       "      <th>529</th>\n",
       "      <td>Jodie Whittaker</td>\n",
       "      <td>2.0</td>\n",
       "      <td>0.0</td>\n",
       "    </tr>\n",
       "    <tr>\n",
       "      <th>530</th>\n",
       "      <td>George Cooper</td>\n",
       "      <td>1.0</td>\n",
       "      <td>0.0</td>\n",
       "    </tr>\n",
       "    <tr>\n",
       "      <th>531</th>\n",
       "      <td>Francis Magee</td>\n",
       "      <td>1.0</td>\n",
       "      <td>0.0</td>\n",
       "    </tr>\n",
       "    <tr>\n",
       "      <th>532</th>\n",
       "      <td>Ron Cook</td>\n",
       "      <td>2.0</td>\n",
       "      <td>0.0</td>\n",
       "    </tr>\n",
       "    <tr>\n",
       "      <th>533</th>\n",
       "      <td>Polly Walker</td>\n",
       "      <td>4.0</td>\n",
       "      <td>0.0</td>\n",
       "    </tr>\n",
       "  </tbody>\n",
       "</table>\n",
       "<p>534 rows × 3 columns</p>\n",
       "</div>"
      ],
      "text/plain": [
       "                      _id  media_nominations  media_wins\n",
       "0              Bryan Batt              256.0       267.0\n",
       "1            Dwight Henry              256.0       267.0\n",
       "2          Dickie Gravois              256.0       267.0\n",
       "3        Chiwetel Ejiofor              133.5       133.5\n",
       "4    Kristin Scott Thomas               53.0        68.0\n",
       "..                    ...                ...         ...\n",
       "529       Jodie Whittaker                2.0         0.0\n",
       "530         George Cooper                1.0         0.0\n",
       "531         Francis Magee                1.0         0.0\n",
       "532              Ron Cook                2.0         0.0\n",
       "533          Polly Walker                4.0         0.0\n",
       "\n",
       "[534 rows x 3 columns]"
      ]
     },
     "execution_count": 43,
     "metadata": {},
     "output_type": "execute_result"
    }
   ],
   "source": [
    "query_actores=[\n",
    "    {\"$unwind\":\"$cast\"},\n",
    "    {\"$match\":{\"genres\":{\"$in\":[\"War\",\"History\"]},\"countries\":\"UK\"}},\n",
    "    {\"$group\":{\"_id\":\"$cast\",\"media_nominations\":{\"$avg\":\"$awards.nominations\"},\"media_wins\":{\"$avg\":\"$awards.wins\"}}},\n",
    "    {\"$sort\":{\"media_wins\":-1}}\n",
    "]\n",
    "\n",
    "df_actores=pd.DataFrame(list(movies_collection.aggregate(query_actores)))\n",
    "df_actores"
   ]
  },
  {
   "cell_type": "code",
   "execution_count": 44,
   "id": "897a2178",
   "metadata": {},
   "outputs": [
    {
     "data": {
      "text/html": [
       "<div>\n",
       "<style scoped>\n",
       "    .dataframe tbody tr th:only-of-type {\n",
       "        vertical-align: middle;\n",
       "    }\n",
       "\n",
       "    .dataframe tbody tr th {\n",
       "        vertical-align: top;\n",
       "    }\n",
       "\n",
       "    .dataframe thead th {\n",
       "        text-align: right;\n",
       "    }\n",
       "</style>\n",
       "<table border=\"1\" class=\"dataframe\">\n",
       "  <thead>\n",
       "    <tr style=\"text-align: right;\">\n",
       "      <th></th>\n",
       "      <th>_id</th>\n",
       "      <th>media_nominations</th>\n",
       "      <th>media_wins</th>\n",
       "    </tr>\n",
       "  </thead>\n",
       "  <tbody>\n",
       "    <tr>\n",
       "      <th>0</th>\n",
       "      <td>David Oyelowo</td>\n",
       "      <td>73.0</td>\n",
       "      <td>55.0</td>\n",
       "    </tr>\n",
       "    <tr>\n",
       "      <th>1</th>\n",
       "      <td>Jim France</td>\n",
       "      <td>73.0</td>\n",
       "      <td>55.0</td>\n",
       "    </tr>\n",
       "    <tr>\n",
       "      <th>2</th>\n",
       "      <td>Trinity Simone</td>\n",
       "      <td>73.0</td>\n",
       "      <td>55.0</td>\n",
       "    </tr>\n",
       "    <tr>\n",
       "      <th>3</th>\n",
       "      <td>Carmen Ejogo</td>\n",
       "      <td>73.0</td>\n",
       "      <td>55.0</td>\n",
       "    </tr>\n",
       "    <tr>\n",
       "      <th>4</th>\n",
       "      <td>Geoffrey Rush</td>\n",
       "      <td>48.0</td>\n",
       "      <td>37.0</td>\n",
       "    </tr>\n",
       "    <tr>\n",
       "      <th>...</th>\n",
       "      <td>...</td>\n",
       "      <td>...</td>\n",
       "      <td>...</td>\n",
       "    </tr>\n",
       "    <tr>\n",
       "      <th>371</th>\n",
       "      <td>Juliette Binoche</td>\n",
       "      <td>1.0</td>\n",
       "      <td>0.0</td>\n",
       "    </tr>\n",
       "    <tr>\n",
       "      <th>372</th>\n",
       "      <td>Natalie Portman</td>\n",
       "      <td>3.0</td>\n",
       "      <td>0.0</td>\n",
       "    </tr>\n",
       "    <tr>\n",
       "      <th>373</th>\n",
       "      <td>Scarlett Johansson</td>\n",
       "      <td>3.0</td>\n",
       "      <td>0.0</td>\n",
       "    </tr>\n",
       "    <tr>\n",
       "      <th>374</th>\n",
       "      <td>Dominic West</td>\n",
       "      <td>3.0</td>\n",
       "      <td>0.0</td>\n",
       "    </tr>\n",
       "    <tr>\n",
       "      <th>375</th>\n",
       "      <td>Ben Cross</td>\n",
       "      <td>6.0</td>\n",
       "      <td>0.0</td>\n",
       "    </tr>\n",
       "  </tbody>\n",
       "</table>\n",
       "<p>376 rows × 3 columns</p>\n",
       "</div>"
      ],
      "text/plain": [
       "                    _id  media_nominations  media_wins\n",
       "0         David Oyelowo               73.0        55.0\n",
       "1            Jim France               73.0        55.0\n",
       "2        Trinity Simone               73.0        55.0\n",
       "3          Carmen Ejogo               73.0        55.0\n",
       "4         Geoffrey Rush               48.0        37.0\n",
       "..                  ...                ...         ...\n",
       "371    Juliette Binoche                1.0         0.0\n",
       "372     Natalie Portman                3.0         0.0\n",
       "373  Scarlett Johansson                3.0         0.0\n",
       "374        Dominic West                3.0         0.0\n",
       "375           Ben Cross                6.0         0.0\n",
       "\n",
       "[376 rows x 3 columns]"
      ]
     },
     "execution_count": 44,
     "metadata": {},
     "output_type": "execute_result"
    }
   ],
   "source": [
    "query_actores=[\n",
    "    {\"$unwind\":\"$cast\"},\n",
    "    {\"$match\":{\"genres\":{\"$in\":[\"War\",\"History\"]},\"countries\":\"UK\",\"$expr\": {\"$gte\": [\"$awards.nominations\", \"$awards.wins\"]}}},\n",
    "    {\"$group\":{\"_id\":\"$cast\",\"media_nominations\":{\"$avg\":\"$awards.nominations\"},\"media_wins\":{\"$avg\":\"$awards.wins\"}}},\n",
    "    {\"$sort\":{\"media_wins\":-1}}\n",
    "]\n",
    "\n",
    "df_actores=pd.DataFrame(list(movies_collection.aggregate(query_actores)))\n",
    "df_actores"
   ]
  }
 ],
 "metadata": {
  "kernelspec": {
   "display_name": "base",
   "language": "python",
   "name": "python3"
  },
  "language_info": {
   "codemirror_mode": {
    "name": "ipython",
    "version": 3
   },
   "file_extension": ".py",
   "mimetype": "text/x-python",
   "name": "python",
   "nbconvert_exporter": "python",
   "pygments_lexer": "ipython3",
   "version": "3.12.3"
  }
 },
 "nbformat": 4,
 "nbformat_minor": 5
}
